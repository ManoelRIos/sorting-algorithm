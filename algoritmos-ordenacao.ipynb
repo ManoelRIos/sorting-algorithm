{
 "cells": [
  {
   "cell_type": "markdown",
   "metadata": {},
   "source": [
    "![alt](https://www.unip.br/aluno/central/assets/img/svg/logo-unip.svg)\n",
    "\n",
    "\n",
    "\n",
    "## Algoritmos de ordenação"
   ]
  },
  {
   "cell_type": "code",
   "execution_count": 54,
   "metadata": {},
   "outputs": [],
   "source": [
    "import numpy as np\n",
    "import time\n",
    "import pandas as pd\n",
    "import matplotlib as plt\n"
   ]
  },
  {
   "cell_type": "markdown",
   "metadata": {},
   "source": [
    "### <li> Bubble Sort </li>\n",
    "\n",
    "<p> Bubble sort é o algoritmo mais simples, porém menos eficiente.\n",
    "Cada elemento da posição i será comparado com o elemento da posição i + 1\n",
    "caso esse elemento (i) for maior que i + 1 eles trocam de lugar. </p>\n",
    " "
   ]
  },
  {
   "cell_type": "code",
   "execution_count": 58,
   "metadata": {},
   "outputs": [
    {
     "name": "stdout",
     "output_type": "stream",
     "text": [
      "Array desordenado\n",
      "[67  7 15 54 38 65 14 18 13 67]\n",
      "----------------------------------------------------------\n",
      "Array ordenado em: 0.0 segundos\n",
      "[ 7 13 14 15 18 38 54 65 67 67]\n"
     ]
    },
    {
     "ename": "AttributeError",
     "evalue": "module 'matplotlib' has no attribute 'subplot'",
     "output_type": "error",
     "traceback": [
      "\u001b[1;31m---------------------------------------------------------------------------\u001b[0m",
      "\u001b[1;31mAttributeError\u001b[0m                            Traceback (most recent call last)",
      "\u001b[1;32mc:\\Users\\manoe\\Documents\\Projects\\sorting-algorithm\\algoritmos-ordenacao.ipynb Cell 4'\u001b[0m in \u001b[0;36m<module>\u001b[1;34m\u001b[0m\n\u001b[0;32m     <a href='vscode-notebook-cell:/c%3A/Users/manoe/Documents/Projects/sorting-algorithm/algoritmos-ordenacao.ipynb#ch0000003?line=22'>23</a>\u001b[0m \u001b[39mprint\u001b[39m(\u001b[39m'\u001b[39m\u001b[39mArray ordenado em: \u001b[39m\u001b[39m'\u001b[39m \u001b[39m+\u001b[39m \u001b[39mstr\u001b[39m(tempoExecucao) \u001b[39m+\u001b[39m \u001b[39m'\u001b[39m\u001b[39m segundos\u001b[39m\u001b[39m'\u001b[39m)      \n\u001b[0;32m     <a href='vscode-notebook-cell:/c%3A/Users/manoe/Documents/Projects/sorting-algorithm/algoritmos-ordenacao.ipynb#ch0000003?line=23'>24</a>\u001b[0m \u001b[39mprint\u001b[39m(array)\n\u001b[1;32m---> <a href='vscode-notebook-cell:/c%3A/Users/manoe/Documents/Projects/sorting-algorithm/algoritmos-ordenacao.ipynb#ch0000003?line=25'>26</a>\u001b[0m fig, axis \u001b[39m=\u001b[39m plt\u001b[39m.\u001b[39;49msubplot(\u001b[39m2\u001b[39m)\n\u001b[0;32m     <a href='vscode-notebook-cell:/c%3A/Users/manoe/Documents/Projects/sorting-algorithm/algoritmos-ordenacao.ipynb#ch0000003?line=26'>27</a>\u001b[0m axis[\u001b[39m0\u001b[39m,\u001b[39m0\u001b[39m]\u001b[39m.\u001b[39mplot(arrayInicial, array)\n\u001b[0;32m     <a href='vscode-notebook-cell:/c%3A/Users/manoe/Documents/Projects/sorting-algorithm/algoritmos-ordenacao.ipynb#ch0000003?line=27'>28</a>\u001b[0m plt\u001b[39m.\u001b[39mshow()\n",
      "File \u001b[1;32mc:\\Users\\manoe\\AppData\\Local\\Programs\\Python\\Python310\\lib\\site-packages\\matplotlib\\_api\\__init__.py:222\u001b[0m, in \u001b[0;36mcaching_module_getattr.<locals>.__getattr__\u001b[1;34m(name)\u001b[0m\n\u001b[0;32m    <a href='file:///c%3A/Users/manoe/AppData/Local/Programs/Python/Python310/lib/site-packages/matplotlib/_api/__init__.py?line=219'>220</a>\u001b[0m \u001b[39mif\u001b[39;00m name \u001b[39min\u001b[39;00m props:\n\u001b[0;32m    <a href='file:///c%3A/Users/manoe/AppData/Local/Programs/Python/Python310/lib/site-packages/matplotlib/_api/__init__.py?line=220'>221</a>\u001b[0m     \u001b[39mreturn\u001b[39;00m props[name]\u001b[39m.\u001b[39m\u001b[39m__get__\u001b[39m(instance)\n\u001b[1;32m--> <a href='file:///c%3A/Users/manoe/AppData/Local/Programs/Python/Python310/lib/site-packages/matplotlib/_api/__init__.py?line=221'>222</a>\u001b[0m \u001b[39mraise\u001b[39;00m \u001b[39mAttributeError\u001b[39;00m(\n\u001b[0;32m    <a href='file:///c%3A/Users/manoe/AppData/Local/Programs/Python/Python310/lib/site-packages/matplotlib/_api/__init__.py?line=222'>223</a>\u001b[0m     \u001b[39mf\u001b[39m\u001b[39m\"\u001b[39m\u001b[39mmodule \u001b[39m\u001b[39m{\u001b[39;00m\u001b[39mcls\u001b[39m\u001b[39m.\u001b[39m\u001b[39m__module__\u001b[39m\u001b[39m!r}\u001b[39;00m\u001b[39m has no attribute \u001b[39m\u001b[39m{\u001b[39;00mname\u001b[39m!r}\u001b[39;00m\u001b[39m\"\u001b[39m)\n",
      "\u001b[1;31mAttributeError\u001b[0m: module 'matplotlib' has no attribute 'subplot'"
     ]
    }
   ],
   "source": [
    "#Algoritmo bubble sort\n",
    "        \n",
    "array = np.random.randint(100, size = 10)\n",
    "print('Array desordenado')\n",
    "arrayInicial = array\n",
    "print(array)\n",
    "\n",
    "print('----------------------------------------------------------')\n",
    "\n",
    "tempoInicial = time.time()\n",
    "\n",
    "for passnum in range(len(array)-1,0,-1):\n",
    "  for i in range(passnum):\n",
    "    if array[i] > array[i+1]:\n",
    "      temp = array[i]\n",
    "      array[i] = array[i+1]\n",
    "      array[i+1] = temp\n",
    "\n",
    "tempoFinal = time.time()\n",
    "tempoExecucao = round(tempoFinal - tempoInicial, 5)\n",
    "\n",
    "\n",
    "print('Array ordenado em: ' + str(tempoExecucao) + ' segundos')      \n",
    "print(array)\n",
    "\n",
    "fig, axis = plt.subplot(1,2)\n",
    "axis[0,0].plot(arrayInicial, array)\n",
    "plt.show()\n",
    "\n",
    "''' df = {'Array desordenado': arrayInicial, 'Array ordenado': array}\n",
    "\n",
    "fig = px.bar(df, category_orders= df)\n",
    "fig.show()\n",
    "\n",
    "fig = px.bar(arrayInicial, title='Array desordenado', color = array)\n",
    "fig.show()\n",
    "fig = px.bar(array, title='Array ordenado', color = array)\n",
    "fig.show() '''"
   ]
  },
  {
   "cell_type": "code",
   "execution_count": null,
   "metadata": {},
   "outputs": [],
   "source": []
  },
  {
   "cell_type": "markdown",
   "metadata": {},
   "source": [
    "### <li> Selection Sort </li>\n",
    "\n",
    "<p> Este algoritmo é baseado em se passar sempre o menor valor do vetor para a primeira posição (ou o maior dependendo da ordem requerida), depois o segundo menor valor para a segunda posição e assim sucessivamente, até os últimos dois elementos. </p>"
   ]
  },
  {
   "cell_type": "code",
   "execution_count": null,
   "metadata": {},
   "outputs": [
    {
     "name": "stdout",
     "output_type": "stream",
     "text": [
      "Array desordenado\n",
      "[44 39 35  3 65 10 53 15 38 46] [44 39 35  3 65 10 53 15 38 46]\n",
      "-----------------------------\n",
      "Array ordenado em: 0.0 segundos\n",
      "[ 3 10 15 35 38 39 44 46 53 65] [ 3 10 15 35 38 39 44 46 53 65]\n"
     ]
    }
   ],
   "source": [
    "#Selection Sort\n",
    "array = np.random.randint(100, size = 10)\n",
    "print('Array desordenado')\n",
    "print(array[:10], array[-10:])\n",
    "print('-----------------------------')\n",
    "\n",
    "tempoInicial = time.time()\n",
    "\n",
    "for fillslot in range(len(array)-1, 0, -1):\n",
    "    positionOfMax = 0\n",
    "    for location in range(1, fillslot+1):\n",
    "      if array[location] > array[positionOfMax]:\n",
    "        positionOfMax = location\n",
    "    \n",
    "    temp = array[fillslot]\n",
    "    array[fillslot] = array[positionOfMax]\n",
    "    array[positionOfMax] = temp\n",
    "\n",
    "tempoFinal = time.time()\n",
    "tempoExecucao = round(tempoFinal - tempoInicial, 5)\n",
    "\n",
    "print('Array ordenado em: ' + str(tempoExecucao) + ' segundos')  \n",
    "print(array[:10], array[-10:])"
   ]
  },
  {
   "cell_type": "markdown",
   "metadata": {},
   "source": [
    "### <li> Quick Sort </li>\n",
    "\n",
    "<p> O Quicksort é o algoritmo mais eficiente na ordenação por comparação. Nele se escolhe um elemento chamado de pivô, a partir disso é organizada a lista para que todos os números anteriores a ele sejam menores que ele, e todos os números posteriores a ele sejam maiores que ele. Ao final desse processo o número pivô já está em sua posição final. Os dois grupos desordenados recursivamente sofreram o mesmo processo até que a lista esteja ordenada.  </p>"
   ]
  },
  {
   "cell_type": "code",
   "execution_count": null,
   "metadata": {},
   "outputs": [
    {
     "name": "stdout",
     "output_type": "stream",
     "text": [
      "Array desordenado\n",
      "[29 13 41 56 44 88 51 33 39 68]\n",
      "-----------------------------\n",
      "Array ordenado em: 0.0 segundos\n",
      "[13 29 33 39 41 44 51 56 68 88]\n"
     ]
    }
   ],
   "source": [
    "#Quick Sort\n",
    "array = np.random.randint(100, size = 10)\n",
    "print('Array desordenado')\n",
    "print(array)\n",
    "print('-----------------------------')\n",
    " \n",
    "\n",
    "def quickSort(array, inicio, fim):\n",
    "  if inicio >= fim:\n",
    "    return\n",
    "  \n",
    "  pivo = particiona(array, inicio, fim)\n",
    "  quickSort(array, inicio, pivo - 1)\n",
    "  quickSort(array, pivo + 1, fim)\n",
    "\n",
    "def particiona(array, inicio, fim):\n",
    "  pivo = array[inicio]\n",
    "  esquerda = inicio + 1\n",
    "  centro = fim\n",
    "  \n",
    "  while True: \n",
    "                        \n",
    "    while esquerda <= centro and array[centro] >= pivo:\n",
    "      centro = centro - 1\n",
    "    \n",
    "    while esquerda <= centro and array[esquerda] <= pivo:\n",
    "      esquerda = esquerda + 1\n",
    "    \n",
    "    if esquerda <= centro:      \n",
    "      array[esquerda], array[centro] = array[centro],  array[esquerda]\n",
    "      \n",
    "    else:\n",
    "      break    \n",
    "    \n",
    "  #troca\n",
    "  array[inicio], array[centro] = array[centro], array[inicio]\n",
    "  return centro\n",
    "\n",
    "tempoInicial = time.time()\n",
    "quickSort(array, 0, len(array) - 1)\n",
    "\n",
    "tempoFinal = time.time()\n",
    "tempoExecucao = round(tempoFinal - tempoInicial, 5)\n",
    "print('Array ordenado em: ' + str(tempoExecucao) + ' segundos') \n",
    "print(array)\n",
    "      "
   ]
  },
  {
   "cell_type": "markdown",
   "metadata": {},
   "source": [
    "### <li> Insertion Sort </li>\n",
    "\n",
    "<p>O Insertion sort é um algoritmo simples e eficiente quando aplicado em pequenas listas. Neste algoritmo a lista é percorrida da esquerda para a direita, à medida que avança vai deixando os elementos mais à esquerda ordenados. \n",
    "O algoritmo funciona da mesma forma que as pessoas usam para ordenar cartas em um jogo de baralho como o pôquer. \n",
    "</p>"
   ]
  },
  {
   "cell_type": "code",
   "execution_count": null,
   "metadata": {},
   "outputs": [
    {
     "name": "stdout",
     "output_type": "stream",
     "text": [
      "Array desordenado\n",
      "[34 19 89 68  5 91 35 98 19 29]\n",
      "-----------------------------\n",
      "Array ordenado em: 0.0 segundos\n",
      "[ 5 19 19 29 34 35 68 89 91 98]\n"
     ]
    }
   ],
   "source": [
    "#Insertion Sort\n",
    "\n",
    "\n",
    "array = np.random.randint(100, size = 10)\n",
    "print('Array desordenado')\n",
    "print(array)\n",
    "print('-----------------------------')\n",
    "\n",
    "tempoInicial = time.time()\n",
    "for i in range(1, len(array)):\n",
    "  valorAtual = array[i]\n",
    "  posicaoAtual = i\n",
    "  \n",
    "  while posicaoAtual > 0 and array[posicaoAtual - 1] > valorAtual:\n",
    "    array[posicaoAtual] = array[posicaoAtual - 1]\n",
    "    posicaoAtual = posicaoAtual -1\n",
    "    \n",
    "  array[posicaoAtual] = valorAtual\n",
    "  \n",
    "\n",
    "tempoFinal = time.time()\n",
    "tempoExecucao = round(tempoFinal - tempoInicial, 5)\n",
    "  \n",
    "print('Array ordenado em: ' + str(tempoExecucao) + ' segundos') \n",
    "print(array)\n",
    "  "
   ]
  }
 ],
 "metadata": {
  "interpreter": {
   "hash": "d2a3e9d7914cf0450c28888d02c58477a954b2f08ce747c1850052d15c6d122a"
  },
  "kernelspec": {
   "display_name": "Python 3.10.2 64-bit",
   "language": "python",
   "name": "python3"
  },
  "language_info": {
   "codemirror_mode": {
    "name": "ipython",
    "version": 3
   },
   "file_extension": ".py",
   "mimetype": "text/x-python",
   "name": "python",
   "nbconvert_exporter": "python",
   "pygments_lexer": "ipython3",
   "version": "3.10.2"
  },
  "orig_nbformat": 4
 },
 "nbformat": 4,
 "nbformat_minor": 2
}
