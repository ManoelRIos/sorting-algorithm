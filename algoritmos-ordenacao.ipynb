{
 "cells": [
  {
   "cell_type": "markdown",
   "metadata": {},
   "source": [
    "![alt](https://www.unip.br/aluno/central/assets/img/svg/logo-unip.svg)\n",
    "\n",
    "\n",
    "\n",
    "\n",
    "## Algoritmos de ordenação"
   ]
  },
  {
   "cell_type": "code",
   "execution_count": 42,
   "metadata": {},
   "outputs": [],
   "source": [
    "import numpy as np\n",
    "import time \n",
    "import pandas as pd"
   ]
  },
  {
   "cell_type": "markdown",
   "metadata": {},
   "source": [
    "### <li> Bubble Sort </li>\n",
    "\n",
    "<p> Bubble sort é o algoritmo mais simples, porém menos eficiente.\n",
    "Cada elemento ds posição i será comparado com o elemento da posição i + 1\n",
    "caso esse elemento (i) for maior que i + 1 eles trocam de lugar. </p>\n",
    " "
   ]
  },
  {
   "cell_type": "code",
   "execution_count": 43,
   "metadata": {},
   "outputs": [
    {
     "name": "stdout",
     "output_type": "stream",
     "text": [
      "Array desordenado\n",
      "[841 744 797 385 138 825 500 603  64 195 560 701 143 193 964 949 153 741\n",
      " 509 419 489 401 743  67  50 726 283 644 555 779 876 249 809  11 428 422\n",
      " 294 749 776 294 885 594 828 566 394 375 436 963 324 521 223 920 337 793\n",
      " 215 155 551 784 334 881 160  71 129  77 852 819 346 258  57 249 963 642\n",
      " 562 353 556 194 876 242 649 657 138 676 269 433  97 520 350 424 732 879\n",
      " 379 556 730 310 943 367 988 679 291 172]\n",
      "----------------------------------------------------------\n",
      "Array ordenado em: 0.00199segundos\n",
      "[ 11  50  57  64  67  71  77  97 129 138 138 143 153 155 160 172 193 194\n",
      " 195 215 223 242 249 249 258 269 283 291 294 294 310 324 334 337 346 350\n",
      " 353 367 375 379 385 394 401 419 422 424 428 433 436 489 500 509 520 521\n",
      " 551 555 556 556 560 562 566 594 603 642 644 649 657 676 679 701 726 730\n",
      " 732 741 743 744 749 776 779 784 793 797 809 819 825 828 841 852 876 876\n",
      " 879 881 885 920 943 949 963 963 964 988]\n"
     ]
    }
   ],
   "source": [
    "#Algoritmo bubble sort\n",
    "        \n",
    "array = np.random.randint(1000, size = 100)\n",
    "print('Array desordenado')\n",
    "print(array)\n",
    "print('----------------------------------------------------------')\n",
    "\n",
    "tempoInicial = time.time()\n",
    "\n",
    "for passnum in range(len(array)-1,0,-1):\n",
    "  for i in range(passnum):\n",
    "    if array[i] > array[i+1]:\n",
    "      temp = array[i]\n",
    "      array[i] = array[i+1]\n",
    "      array[i+1] = temp\n",
    "\n",
    "tempoFinal = time.time()\n",
    "tempoExecucao = round(tempoFinal - tempoInicial, 5)\n",
    "\n",
    "print('Array ordenado em: ' + str(tempoExecucao) + 'segundos')      \n",
    "print(array)"
   ]
  },
  {
   "cell_type": "markdown",
   "metadata": {},
   "source": [
    "### <li> Selection Sort </li>\n",
    "\n",
    "<p> Este algoritmo é baseado em se passar sempre o menor valor do vetor para a primeira posição (ou o maior dependendo da ordem requerida), depois o segundo menor valor para a segunda posição e assim sucessivamente, até os últimos dois elementos. </p>"
   ]
  },
  {
   "cell_type": "code",
   "execution_count": 44,
   "metadata": {},
   "outputs": [
    {
     "name": "stdout",
     "output_type": "stream",
     "text": [
      "Array desordenado\n",
      "[259  48  13 572  23 321 465 774 668 503 406 351 696 194  47 950 700 793\n",
      " 204 771 532 926 404 923 848 285  98 575  55 895 451 970 157 790 904 174\n",
      " 438 152 292 562 533 962 952 146 788 685 790 125 195  85 343  82 294 490\n",
      " 149 829 587 822 750 520 330  40 849 974 179 868 336 837 931 849 223 794\n",
      " 236 832 974 639 407 749 728 169 724 126 440  99 130 539 137  33 586 930\n",
      "  29   1 801 198 370 598 953 846 674  21]\n",
      "-----------------------------\n",
      "Array ordenado em: 0.002segundos\n",
      "[  1  13  21  23  29  33  40  47  48  55  82  85  98  99 125 126 130 137\n",
      " 146 149 152 157 169 174 179 194 195 198 204 223 236 259 285 292 294 321\n",
      " 330 336 343 351 370 404 406 407 438 440 451 465 490 503 520 532 533 539\n",
      " 562 572 575 586 587 598 639 668 674 685 696 700 724 728 749 750 771 774\n",
      " 788 790 790 793 794 801 822 829 832 837 846 848 849 849 868 895 904 923\n",
      " 926 930 931 950 952 953 962 970 974 974]\n"
     ]
    }
   ],
   "source": [
    "\n",
    "\n",
    "\n",
    "array = np.random.randint(1000, size = 100)\n",
    "print('Array desordenado')\n",
    "print(array)\n",
    "print('-----------------------------')\n",
    "\n",
    "tempoInicial = time.time()\n",
    "\n",
    "for fillslot in range(len(array)-1, 0, -1):\n",
    "    positionOfMax = 0\n",
    "    for location in range(1, fillslot+1):\n",
    "      if array[location] > array[positionOfMax]:\n",
    "        positionOfMax = location\n",
    "    \n",
    "    temp = array[fillslot]\n",
    "    array[fillslot] = array[positionOfMax]\n",
    "    array[positionOfMax] = temp\n",
    "\n",
    "tempoFinal = time.time()\n",
    "tempoExecucao = round(tempoFinal - tempoInicial, 5)\n",
    "\n",
    "print('Array ordenado em: ' + str(tempoExecucao) + 'segundos')  \n",
    "print(array)"
   ]
  },
  {
   "cell_type": "markdown",
   "metadata": {},
   "source": [
    "### <li> Qucick Sort </li>\n"
   ]
  }
 ],
 "metadata": {
  "interpreter": {
   "hash": "d2a3e9d7914cf0450c28888d02c58477a954b2f08ce747c1850052d15c6d122a"
  },
  "kernelspec": {
   "display_name": "Python 3.10.2 64-bit",
   "language": "python",
   "name": "python3"
  },
  "language_info": {
   "codemirror_mode": {
    "name": "ipython",
    "version": 3
   },
   "file_extension": ".py",
   "mimetype": "text/x-python",
   "name": "python",
   "nbconvert_exporter": "python",
   "pygments_lexer": "ipython3",
   "version": "3.10.2"
  },
  "orig_nbformat": 4
 },
 "nbformat": 4,
 "nbformat_minor": 2
}
